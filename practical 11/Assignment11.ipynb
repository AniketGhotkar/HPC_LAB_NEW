{
  "cells": [
    {
      "cell_type": "code",
      "execution_count": 1,
      "metadata": {
        "colab": {
          "base_uri": "https://localhost:8080/"
        },
        "id": "7zn9_MG0NQSX",
        "outputId": "b4622f7a-1909-44c7-c41d-c6efb52ff0ab"
      },
      "outputs": [
        {
          "name": "stdout",
          "output_type": "stream",
          "text": [
            "nvcc: NVIDIA (R) Cuda compiler driver\n",
            "Copyright (c) 2005-2023 NVIDIA Corporation\n",
            "Built on Tue_Aug_15_22:02:13_PDT_2023\n",
            "Cuda compilation tools, release 12.2, V12.2.140\n",
            "Build cuda_12.2.r12.2/compiler.33191640_0\n"
          ]
        }
      ],
      "source": [
        "!nvcc --version\n"
      ]
    },
    {
      "cell_type": "markdown",
      "metadata": {
        "id": "6Tt2VHR-POif"
      },
      "source": [
        "Program 1:Execute the following program and check the properties of your GPGPU."
      ]
    },
    {
      "cell_type": "code",
      "execution_count": 2,
      "metadata": {
        "colab": {
          "base_uri": "https://localhost:8080/"
        },
        "id": "OdOZgq0oMsgF",
        "outputId": "d3bbef43-9577-4d41-df92-16b54ac7946f"
      },
      "outputs": [
        {
          "name": "stdout",
          "output_type": "stream",
          "text": [
            "Writing cuda_device_info.cu\n"
          ]
        }
      ],
      "source": [
        "# Step 1: Write the CUDA code\n",
        "%%writefile cuda_device_info.cu\n",
        "#include <stdio.h>\n",
        "#include <cuda_runtime.h>\n",
        "\n",
        "int main()\n",
        "{\n",
        "    int deviceCount;\n",
        "    cudaGetDeviceCount(&deviceCount);\n",
        "    printf(\"Checking device count...\\n\"); // Debug statement\n",
        "    if (deviceCount == 0)\n",
        "    {\n",
        "        printf(\"There is no device supporting CUDA\\n\");\n",
        "        return 0; // Exit the program\n",
        "    }\n",
        "    printf(\"Device Count: %d\\n\", deviceCount); // Debug statement\n",
        "    int dev;\n",
        "    for (dev = 0; dev < deviceCount; ++dev)\n",
        "    {\n",
        "        cudaDeviceProp deviceProp;\n",
        "        cudaGetDeviceProperties(&deviceProp, dev);\n",
        "        if (dev == 0)\n",
        "        {\n",
        "            if (deviceProp.major < 1)\n",
        "            {\n",
        "                printf(\"There is no device supporting CUDA.\\n\");\n",
        "            }\n",
        "            else if (deviceCount == 1)\n",
        "            {\n",
        "                printf(\"There is 1 device supporting CUDA\\n\");\n",
        "            }\n",
        "            else\n",
        "            {\n",
        "                printf(\"There are %d devices supporting CUDA\\n\", deviceCount);\n",
        "            }\n",
        "        }\n",
        "        printf(\"  Device %d: \\\"%s\\\"\\n\", dev, deviceProp.name);\n",
        "        printf(\"  Major revision number:                         %d\\n\", deviceProp.major);\n",
        "        printf(\"  Minor revision number:                         %d\\n\", deviceProp.minor);\n",
        "        printf(\"  Total amount of global memory:                 %ld bytes\\n\", deviceProp.totalGlobalMem);\n",
        "        printf(\"  Total amount of constant memory:               %ld bytes\\n\", deviceProp.totalConstMem);\n",
        "        printf(\"  Total amount of shared memory per block:       %ld bytes\\n\", deviceProp.sharedMemPerBlock);\n",
        "        printf(\"  Total number of registers available per block: %d\\n\", deviceProp.regsPerBlock);\n",
        "        printf(\"  Warp size:                                     %d\\n\", deviceProp.warpSize);\n",
        "        printf(\"  Multiprocessor count:                          %d\\n\", deviceProp.multiProcessorCount);\n",
        "        printf(\"  Maximum number of threads per block:           %d\\n\", deviceProp.maxThreadsPerBlock);\n",
        "        printf(\"  Maximum sizes of each dimension of a block:    %d x %d x %d\\n\", deviceProp.maxThreadsDim[0], deviceProp.maxThreadsDim[1], deviceProp.maxThreadsDim[2]);\n",
        "        printf(\"  Maximum sizes of each dimension of a grid:     %d x %d x %d\\n\", deviceProp.maxGridSize[0], deviceProp.maxGridSize[1], deviceProp.maxGridSize[2]);\n",
        "        printf(\"  Maximum memory pitch:                          %ld bytes\\n\", deviceProp.memPitch);\n",
        "        printf(\"  Texture alignment:                             %ld bytes\\n\", deviceProp.textureAlignment);\n",
        "        printf(\"  Clock rate:                                    %d kilohertz\\n\", deviceProp.clockRate);\n",
        "    }\n",
        "    return 0;\n",
        "}\n"
      ]
    },
    {
      "cell_type": "code",
      "execution_count": 3,
      "metadata": {
        "id": "P75qUgolNhoQ"
      },
      "outputs": [],
      "source": [
        "# Step 2: Compile the code\n",
        "!nvcc cuda_device_info.cu -o cuda_device_info"
      ]
    },
    {
      "cell_type": "code",
      "execution_count": 4,
      "metadata": {
        "colab": {
          "base_uri": "https://localhost:8080/"
        },
        "id": "37_wUU5kNlcT",
        "outputId": "bb07fb4c-5be2-41bd-bdee-2fe944f2bbf3"
      },
      "outputs": [
        {
          "name": "stdout",
          "output_type": "stream",
          "text": [
            "Checking device count...\n",
            "Device Count: 1\n",
            "There is 1 device supporting CUDA\n",
            "  Device 0: \"Tesla T4\"\n",
            "  Major revision number:                         7\n",
            "  Minor revision number:                         5\n",
            "  Total amount of global memory:                 15835660288 bytes\n",
            "  Total amount of constant memory:               65536 bytes\n",
            "  Total amount of shared memory per block:       49152 bytes\n",
            "  Total number of registers available per block: 65536\n",
            "  Warp size:                                     32\n",
            "  Multiprocessor count:                          40\n",
            "  Maximum number of threads per block:           1024\n",
            "  Maximum sizes of each dimension of a block:    1024 x 1024 x 64\n",
            "  Maximum sizes of each dimension of a grid:     2147483647 x 65535 x 65535\n",
            "  Maximum memory pitch:                          2147483647 bytes\n",
            "  Texture alignment:                             512 bytes\n",
            "  Clock rate:                                    1590000 kilohertz\n"
          ]
        }
      ],
      "source": [
        "# Step 3: Run the executable\n",
        "!./cuda_device_info"
      ]
    },
    {
      "cell_type": "markdown",
      "metadata": {
        "id": "Cq57IwmrPT--"
      },
      "source": [
        "Program 2: Write a program to where each thread prints its thread ID along with hello world. Lauch the kernel with one block and multiple threads."
      ]
    },
    {
      "cell_type": "code",
      "execution_count": 5,
      "metadata": {
        "colab": {
          "base_uri": "https://localhost:8080/"
        },
        "id": "86ePgyK2OMPh",
        "outputId": "ba8b96a0-9019-4af0-cb1b-c229d1bef558"
      },
      "outputs": [
        {
          "name": "stdout",
          "output_type": "stream",
          "text": [
            "Overwriting cuda_device_info.cu\n"
          ]
        }
      ],
      "source": [
        "%%writefile cuda_device_info.cu\n",
        "#include <stdio.h>\n",
        "#include <cuda_runtime.h>\n",
        "\n",
        "__global__ void helloWorldKernel() {\n",
        "    // Get the block ID and thread ID\n",
        "    int blockId = blockIdx.x;\n",
        "    int threadId = threadIdx.x;\n",
        "    printf(\"Hello World from block %d, thread %d\\n\", blockId, threadId);\n",
        "}\n",
        "\n",
        "int main() {\n",
        "    // Launch the kernel with 5 blocks and 10 threads per block\n",
        "    helloWorldKernel<<<5, 10>>>(); // 5 blocks, 10 threads per block\n",
        "    cudaDeviceSynchronize(); // Wait for the kernel to finish\n",
        "    return 0;\n",
        "}"
      ]
    },
    {
      "cell_type": "code",
      "execution_count": 6,
      "metadata": {
        "id": "ejVzmaZlP7Kn"
      },
      "outputs": [],
      "source": [
        "!nvcc cuda_device_info.cu -o cuda_device_info\n"
      ]
    },
    {
      "cell_type": "code",
      "execution_count": 7,
      "metadata": {
        "colab": {
          "base_uri": "https://localhost:8080/"
        },
        "id": "rJZBST8ZP7UN",
        "outputId": "e6a8c050-ab89-49f3-ac70-8eca50e6a608"
      },
      "outputs": [
        {
          "name": "stdout",
          "output_type": "stream",
          "text": [
            "Hello World from block 4, thread 0\n",
            "Hello World from block 4, thread 1\n",
            "Hello World from block 4, thread 2\n",
            "Hello World from block 4, thread 3\n",
            "Hello World from block 4, thread 4\n",
            "Hello World from block 4, thread 5\n",
            "Hello World from block 4, thread 6\n",
            "Hello World from block 4, thread 7\n",
            "Hello World from block 4, thread 8\n",
            "Hello World from block 4, thread 9\n",
            "Hello World from block 1, thread 0\n",
            "Hello World from block 1, thread 1\n",
            "Hello World from block 1, thread 2\n",
            "Hello World from block 1, thread 3\n",
            "Hello World from block 1, thread 4\n",
            "Hello World from block 1, thread 5\n",
            "Hello World from block 1, thread 6\n",
            "Hello World from block 1, thread 7\n",
            "Hello World from block 1, thread 8\n",
            "Hello World from block 1, thread 9\n",
            "Hello World from block 3, thread 0\n",
            "Hello World from block 3, thread 1\n",
            "Hello World from block 3, thread 2\n",
            "Hello World from block 3, thread 3\n",
            "Hello World from block 3, thread 4\n",
            "Hello World from block 3, thread 5\n",
            "Hello World from block 3, thread 6\n",
            "Hello World from block 3, thread 7\n",
            "Hello World from block 3, thread 8\n",
            "Hello World from block 3, thread 9\n",
            "Hello World from block 2, thread 0\n",
            "Hello World from block 2, thread 1\n",
            "Hello World from block 2, thread 2\n",
            "Hello World from block 2, thread 3\n",
            "Hello World from block 2, thread 4\n",
            "Hello World from block 2, thread 5\n",
            "Hello World from block 2, thread 6\n",
            "Hello World from block 2, thread 7\n",
            "Hello World from block 2, thread 8\n",
            "Hello World from block 2, thread 9\n",
            "Hello World from block 0, thread 0\n",
            "Hello World from block 0, thread 1\n",
            "Hello World from block 0, thread 2\n",
            "Hello World from block 0, thread 3\n",
            "Hello World from block 0, thread 4\n",
            "Hello World from block 0, thread 5\n",
            "Hello World from block 0, thread 6\n",
            "Hello World from block 0, thread 7\n",
            "Hello World from block 0, thread 8\n",
            "Hello World from block 0, thread 9\n"
          ]
        }
      ],
      "source": [
        "# Step 3: Run the executable\n",
        "!./cuda_device_info"
      ]
    },
    {
      "cell_type": "markdown",
      "metadata": {
        "id": "Zv9ivV5fQK26"
      },
      "source": [
        "Program 3:Write a program to where each thread prints its thread ID along with hello world. Lauch the kernel with multiple blocks and multiple threads."
      ]
    },
    {
      "cell_type": "code",
      "execution_count": 17,
      "metadata": {
        "colab": {
          "base_uri": "https://localhost:8080/"
        },
        "id": "u0Hog4sXPyZN",
        "outputId": "9eaa7bbe-7003-4c91-eef3-79a1fdb8b1e1"
      },
      "outputs": [
        {
          "name": "stdout",
          "output_type": "stream",
          "text": [
            "Overwriting cuda_device_info.cu\n"
          ]
        }
      ],
      "source": [
        "# Step 1: Write the CUDA code\n",
        "%%writefile cuda_device_info.cu\n",
        "#include <stdio.h>\n",
        "#include <cuda_runtime.h>\n",
        "\n",
        "#include <stdio.h>\n",
        "\n",
        "__global__ void helloWorldKernel() {\n",
        "    // Get the thread ID\n",
        "    int threadId = blockIdx.x * blockDim.x + threadIdx.x;\n",
        "    printf(\"Hello World from thread %d ( block %d)\\n\", threadId,blockIdx.x);\n",
        "}\n",
        "\n",
        "int main() {\n",
        "    int numBlocks = 2; // Change this to the desired number of blocks\n",
        "    int threadsPerBlock = 5; // Change this to the desired number of threads per block\n",
        "    // Launch the kernel with multiple blocks and multiple threads\n",
        "    helloWorldKernel<<<numBlocks, threadsPerBlock>>>();\n",
        "    cudaDeviceSynchronize(); // Wait for the kernel to finish\n",
        "    return 0;\n",
        "}"
      ]
    },
    {
      "cell_type": "code",
      "execution_count": 18,
      "metadata": {
        "id": "vqmM0WxIQBVi"
      },
      "outputs": [],
      "source": [
        "# Step 2: Compile the code\n",
        "!nvcc cuda_device_info.cu -o cuda_device_info"
      ]
    },
    {
      "cell_type": "code",
      "execution_count": 19,
      "metadata": {
        "colab": {
          "base_uri": "https://localhost:8080/"
        },
        "id": "gRaxrL05QBY7",
        "outputId": "0e7a1978-6a5f-490b-9fbb-281c09066720"
      },
      "outputs": [
        {
          "name": "stdout",
          "output_type": "stream",
          "text": [
            "Hello World from thread 5 ( block 1)\n",
            "Hello World from thread 6 ( block 1)\n",
            "Hello World from thread 7 ( block 1)\n",
            "Hello World from thread 8 ( block 1)\n",
            "Hello World from thread 9 ( block 1)\n",
            "Hello World from thread 0 ( block 0)\n",
            "Hello World from thread 1 ( block 0)\n",
            "Hello World from thread 2 ( block 0)\n",
            "Hello World from thread 3 ( block 0)\n",
            "Hello World from thread 4 ( block 0)\n"
          ]
        }
      ],
      "source": [
        "# Step 3: Run the executable\n",
        "!./cuda_device_info"
      ]
    },
    {
      "cell_type": "markdown",
      "metadata": {
        "id": "5TXN2HbjQIj9"
      },
      "source": [
        "Program 4: Write a program to where each thread prints its thread ID along with hello world. Lauch the kernel with 2D blocks and 2D threads."
      ]
    },
    {
      "cell_type": "code",
      "execution_count": 14,
      "metadata": {
        "colab": {
          "base_uri": "https://localhost:8080/"
        },
        "id": "BmcoEbW1P0Hj",
        "outputId": "d046a141-d5ff-4f0b-823f-b7aefa8c933b"
      },
      "outputs": [
        {
          "name": "stdout",
          "output_type": "stream",
          "text": [
            "Overwriting cuda_device_info.cu\n"
          ]
        }
      ],
      "source": [
        "# Step 1: Write the CUDA code\n",
        "%%writefile cuda_device_info.cu\n",
        "#include <stdio.h>\n",
        "#include <cuda_runtime.h>\n",
        "\n",
        "__global__ void helloWorldKernel() {\n",
        "    // Get the 2D thread ID\n",
        "    int threadIdX = threadIdx.x;\n",
        "    int threadIdY = threadIdx.y;\n",
        "    int blockIDX = blockIdx.x;\n",
        "    int blockIDY = blockIdx.y;\n",
        "    printf(\"Hello World from thread (%d, %d) for block (%d,%d)\\n\", threadIdX, threadIdY,blockIDX,blockIDY);\n",
        "}\n",
        "\n",
        "int main() {\n",
        "    dim3 threadsPerBlock(2, 2); // Change this to the desired size of the block\n",
        "    dim3 numBlocks(2, 2); // Change this to the desired number of blocks\n",
        "    // Launch the kernel with 2D blocks and 2D threads\n",
        "    helloWorldKernel<<<numBlocks, threadsPerBlock>>>();\n",
        "    cudaDeviceSynchronize(); // Wait for the kernel to finish\n",
        "    return 0;\n",
        "}"
      ]
    },
    {
      "cell_type": "code",
      "execution_count": 15,
      "metadata": {
        "id": "lmhEDzKPQC4P"
      },
      "outputs": [],
      "source": [
        "# Step 2: Compile the code\n",
        "!nvcc cuda_device_info.cu -o cuda_device_info"
      ]
    },
    {
      "cell_type": "code",
      "execution_count": 16,
      "metadata": {
        "colab": {
          "base_uri": "https://localhost:8080/"
        },
        "id": "8ScDlL7JQC7y",
        "outputId": "a2b04f44-88cb-4f6b-d619-118c882bcd73"
      },
      "outputs": [
        {
          "name": "stdout",
          "output_type": "stream",
          "text": [
            "Hello World from thread (0, 0) for block (1,0)\n",
            "Hello World from thread (1, 0) for block (1,0)\n",
            "Hello World from thread (0, 1) for block (1,0)\n",
            "Hello World from thread (1, 1) for block (1,0)\n",
            "Hello World from thread (0, 0) for block (1,1)\n",
            "Hello World from thread (1, 0) for block (1,1)\n",
            "Hello World from thread (0, 1) for block (1,1)\n",
            "Hello World from thread (1, 1) for block (1,1)\n",
            "Hello World from thread (0, 0) for block (0,1)\n",
            "Hello World from thread (1, 0) for block (0,1)\n",
            "Hello World from thread (0, 1) for block (0,1)\n",
            "Hello World from thread (1, 1) for block (0,1)\n",
            "Hello World from thread (0, 0) for block (0,0)\n",
            "Hello World from thread (1, 0) for block (0,0)\n",
            "Hello World from thread (0, 1) for block (0,0)\n",
            "Hello World from thread (1, 1) for block (0,0)\n"
          ]
        }
      ],
      "source": [
        "# Step 3: Run the executable\n",
        "!./cuda_device_info"
      ]
    }
  ],
  "metadata": {
    "accelerator": "GPU",
    "colab": {
      "gpuType": "T4",
      "provenance": []
    },
    "kernelspec": {
      "display_name": "Python 3",
      "name": "python3"
    },
    "language_info": {
      "name": "python"
    }
  },
  "nbformat": 4,
  "nbformat_minor": 0
}
